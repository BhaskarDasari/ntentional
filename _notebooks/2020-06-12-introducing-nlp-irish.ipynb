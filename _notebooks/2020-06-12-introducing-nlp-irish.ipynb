{
 "cells": [
  {
   "cell_type": "markdown",
   "metadata": {},
   "source": [
    "# Introducing nlp.irish!\n",
    "> A collaborative source of Irish language dataset descriptions (with code) for the Irish NLP community\n",
    "\n",
    "- toc: false\n",
    "- badges: false\n",
    "- comments: false\n",
    "- author: Morgan McGuire\n",
    "- categories: [irish, translation, nmt, mt, nlp]\n",
    "- image: images/nlpirish_logo.png"
   ]
  },
  {
   "cell_type": "markdown",
   "metadata": {},
   "source": [
    "## tl;dr\n",
    "- *Looking through papers to track down the Irish-English parallel corpora they used was a real pain, so I built [**nlp.irish**](nlp.irish) to document where to find them and how to process them easily*\n",
    "\n",
    "## What?\n",
    "- The intention behind [nlp.irish](http://www.nlp.irish/) is to make NLP for folks new to working with Irish a **little easier** by documenting the datasets that are available out there, where to find them and how to load them to a pandas dataframe. \n",
    "\n",
    "\n",
    "- The site is hosted on [github here](https://github.com/nlp-irish/nlp.irish) with the intention that it will grow via a **collaborative effort** of those working in Irish NLP.\n",
    "\n",
    "## Where?\n",
    "- 🇮🇪 [**nlp.irish**](http://www.nlp.irish/) 🇮🇪\n",
    "\n",
    "\n",
    "## Why?\n",
    "- Irish is a low-resource language and every piece of data out there is valuable. \n",
    "\n",
    "\n",
    "## Current Data\n",
    "- As of writing, 5 commonly used Irish-English parallel corpora have been documented, with instructions on where to find them and **code on how to process them**:\n",
    "\n",
    "    - ParaCrawl, v6\n",
    "    - DGT-TM, DGT-Translation Memory\n",
    "    - DCEP, Digital Corpus of the European Parliament\n",
    "    - ELRC, European Language Resource Coordination\n",
    "    - Tatoeba\n",
    "\n",
    "## Contributing\n",
    "- Contributing is as easy as submitting a pull request on Github. Alternatively you can find me on twitter at [@mcgenergy](www.twitter.com/mcgenergy) and I can help update the site with your contibution."
   ]
  },
  {
   "cell_type": "markdown",
   "metadata": {},
   "source": [
    "![](my_icons/20200612_nlp-irish/nlp-irish-grab.png)"
   ]
  }
 ],
 "metadata": {
  "kernelspec": {
   "display_name": "Python 3",
   "language": "python",
   "name": "python3"
  },
  "language_info": {
   "codemirror_mode": {
    "name": "ipython",
    "version": 3
   },
   "file_extension": ".py",
   "mimetype": "text/x-python",
   "name": "python",
   "nbconvert_exporter": "python",
   "pygments_lexer": "ipython3",
   "version": "3.7.7"
  }
 },
 "nbformat": 4,
 "nbformat_minor": 4
}
